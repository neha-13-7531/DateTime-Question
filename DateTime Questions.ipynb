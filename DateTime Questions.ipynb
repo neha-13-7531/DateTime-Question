{
 "cells": [
  {
   "cell_type": "markdown",
   "id": "095c2ebd-d9fc-45a3-b347-bf7f4060310e",
   "metadata": {},
   "source": [
    "# Date and Time Questions"
   ]
  },
  {
   "cell_type": "markdown",
   "id": "42eb0577-c579-42c4-bab3-40acd66077fd",
   "metadata": {},
   "source": [
    "**Q 1.Write a function to detect 13th Friday. The function can accept two parameters, and both will be numbers. The first parameter will be the number indicating the month, and the second will be the year in four digits. Your function should parse the parameters, and it must return True when the month contains a Friday with the 13th, else return False.**"
   ]
  },
  {
   "cell_type": "code",
   "execution_count": 25,
   "id": "895e697f-1736-40c4-8448-029c159fbb44",
   "metadata": {},
   "outputs": [
    {
     "name": "stdout",
     "output_type": "stream",
     "text": [
      "True\n",
      "False\n"
     ]
    }
   ],
   "source": [
    "def detect_13th_friday(month,year): # create a function to detect calender whose take 2 parameter month and year\n",
    "    day=13 # define the 13th friday because we detect 13 th friday\n",
    "  # accoriding to zeller's congruence formula for gregorian calender if january & february it will be consider 13th and 14th month of the previous year\n",
    "    if month < 3:   \n",
    "      month +=12\n",
    "      year -=1\n",
    "# zeller's congruence formula\n",
    "    q=day  # for day\n",
    "    m=month  # for month\n",
    "    k=year%100   # year\n",
    "    j=year//100\n",
    "    h=(q + 13 * (m + 1) // 5 + k + k // 4 + j // 4 + 5 * j) % 7 # h %7 for  there are 7 days in week\n",
    "    return h == 6 # if result is 6  the function retunrn true (13th friday are present) other wise it return false (13th friday not present)\n",
    "    \n",
    "print(detect_13th_friday(6,2025)) # 13th friday present return true\n",
    "print(detect_13th_friday(4,2024))  # 13th fri not present return false\n",
    "    "
   ]
  },
  {
   "cell_type": "markdown",
   "id": "dc9c4083-22c1-4aaf-8606-71e236900010",
   "metadata": {},
   "source": [
    "**Q 2.Write a function that counts how many leap years exist between two given years, the years are inclusive.**"
   ]
  },
  {
   "cell_type": "code",
   "execution_count": 5,
   "id": "e7eb5271-09aa-4fe2-8697-2f6c862850b9",
   "metadata": {},
   "outputs": [
    {
     "name": "stdin",
     "output_type": "stream",
     "text": [
      "Enter the start year: 2021\n",
      "Enter the end year: 2025\n"
     ]
    },
    {
     "name": "stdout",
     "output_type": "stream",
     "text": [
      "The leap year between 2021 to 2025 is: 1\n"
     ]
    }
   ],
   "source": [
    "def leap_year(Start_year,end_year): # create a function for to count the leap year\n",
    "    initial_count=0 # initial count is 0\n",
    "    for year in range(start_year,end_year):\n",
    "        # year%4==0 it check given year is divisible by 4 or not if yes i.e it is leap year \n",
    "        if year % 4 == 0 and (year % 100 != 0 or year % 400 == 0 ): # check the year is leap year or not\n",
    "            initial_count += 1 # if yes increase the count\n",
    "    return initial_count\n",
    "\n",
    "start_year=int(input(\"Enter the start year:\")) # take start year from user\n",
    "end_year=int(input(\"Enter the end year:\")) # take end year from user\n",
    "print(f\"The leap year between {start_year} to {end_year} is:\",leap_year(start_year,end_year))"
   ]
  },
  {
   "cell_type": "markdown",
   "id": "16feee5e-9128-45fe-8288-66b28b4a17e5",
   "metadata": {},
   "source": [
    "**Q 3.Given a non-negative integer representing a number of seconds, convert it into a string representing the time in hh:mm:ss format.**"
   ]
  },
  {
   "cell_type": "code",
   "execution_count": 21,
   "id": "9dad75c9-814a-4eaf-bee4-53bb561713ef",
   "metadata": {},
   "outputs": [
    {
     "name": "stdin",
     "output_type": "stream",
     "text": [
      "Enter the seconds:  65467\n"
     ]
    },
    {
     "name": "stdout",
     "output_type": "stream",
     "text": [
      "Your Time Format is: 18:11:07\n"
     ]
    }
   ],
   "source": [
    "def convert_seconds(seconds):\n",
    "    hours = seconds // 3600 # calculate the hour\n",
    "    remaining_seconds = seconds % 3600  # Calculate remaining seconds after subtracting hours:\n",
    "    minutes = remaining_seconds // 60 # calculate the minutes\n",
    "    seconds = remaining_seconds % 60  # Calculate seconds \n",
    "\n",
    "    return f\"{hours:02d}:{minutes:02d}:{seconds:02d}\" # To convert the second in hh:mm:ss format by leading  zeros\n",
    "\n",
    "seconds = int(input(\"Enter the seconds: \")) # take seconds from user\n",
    "print(\"Your Time Format is:\",convert_seconds(seconds))"
   ]
  },
  {
   "cell_type": "markdown",
   "id": "476a7fce-d64d-4104-b007-d41ea32aca0a",
   "metadata": {},
   "source": [
    "**Q 4.Write a function that takes two dates (day, month, year) and calculates the number of days between them without using datetime.**"
   ]
  },
  {
   "cell_type": "code",
   "execution_count": 57,
   "id": "af450386-5dc9-4ad6-822a-6282fc2bff48",
   "metadata": {},
   "outputs": [
    {
     "name": "stdout",
     "output_type": "stream",
     "text": [
      "The Number of Difference between two dates is: 396\n"
     ]
    }
   ],
   "source": [
    "def check_leap_year(year): # create function for check leap year\n",
    "    if year % 4==0 and (year % 100!=0 or year % 400==0):\n",
    "        return True\n",
    "        return False\n",
    "\n",
    "month_day=[31,28,31,30,31,30,31,31,31,30,31,30,31] # days in every month\n",
    "def convert_number(day,month,year): # for convert the number of days start 0 year\n",
    "    days=365 * year # to get days 365 * given year\n",
    "    for years in range(0,year): #   since year 0\n",
    "        if check_leap_year(years): #  check leap year case if given year is leap year add days\n",
    "            days +=1\n",
    "    for months in range(1,month): # days for passed month in year\n",
    "        days += month_day[months-1] # add current  days\n",
    "        if month==2 and check_leap_year(year):\n",
    "            days += 1 # add days when given month is 2(feb) and it's for leap year then \n",
    "            days += day\n",
    "    return days # add days passed in current month\n",
    "\n",
    "# subtract in the total number of days between two dates \n",
    "def difference_days(day1,month1,year1,day2,month2,year2):\n",
    "    total1=convert_number(day1,month1,year1) # to get total number of days to first date\n",
    "    total2=convert_number(day2,month2,year2)  # to get total number of days to second date\n",
    "\n",
    "    return abs(total2-total1) # to get difference,abs to return the difference in positive\n",
    "\n",
    "print(\"The Number of Difference between two dates is:\",difference_days(20,6,2024,10,7,2025))\n"
   ]
  },
  {
   "cell_type": "markdown",
   "id": "73e18cba-9797-47f0-b654-b0dda9db0a65",
   "metadata": {},
   "source": [
    "**Q.5 You are given a date in the form of three integers: day, month, and year. Your task is to determine the day of the week for the given date.**"
   ]
  },
  {
   "cell_type": "code",
   "execution_count": 77,
   "id": "d8a48ebe-3198-4701-a85c-c85662988da2",
   "metadata": {},
   "outputs": [
    {
     "name": "stdout",
     "output_type": "stream",
     "text": [
      "The Day of That week is: Thursday\n"
     ]
    }
   ],
   "source": [
    "def days_week(day,month,year): # create function days of week\n",
    "    if month < 3:   # if january & february considering it 13th and 14th month of previous month\n",
    "      month +=12\n",
    "      year -=1\n",
    "# apply zeller's rule\n",
    "    q=day  # for day\n",
    "    m=month  # for month\n",
    "    k=year%100   # year\n",
    "    j=year//100\n",
    "    h=(q + 13 * (m + 1) // 5 + k + k // 4 + j // 4 + 5 * j)%7\n",
    "\n",
    "# defines weekdays ( saturday=1,sunday=0,etc)\n",
    "    week_days=['Saturday','Sunday','Monday','Tuesday','Wensday','Thursday','Friday']\n",
    "    return week_days[h]\n",
    "\n",
    "print(\"The Day of That week is:\",days_week(10,7,2025))\n"
   ]
  },
  {
   "cell_type": "markdown",
   "id": "2d7c0bac-9f4c-4ec6-8dcb-8dfd103d919a",
   "metadata": {},
   "source": [
    "**Q.6 You are given a valid date in the format: day, month, and year, along with an integer N representing a number of days to add. Your task is to compute the new date after adding N days to the given date.**"
   ]
  },
  {
   "cell_type": "code",
   "execution_count": 23,
   "id": "f14eff10-41a6-48cf-a9e0-f7b16bcf717f",
   "metadata": {},
   "outputs": [
    {
     "name": "stdout",
     "output_type": "stream",
     "text": [
      "The new date after adding N days is: (9, 8, 2024)\n",
      "July 11, 2025 + 30 days = (10, 8, 2025)\n"
     ]
    }
   ],
   "source": [
    "def check_leap_year(year):\n",
    "    if year % 4 == 0 and(year % 100 != 0 or year % 400 == 0): # define a function to check leap year\n",
    "        return True  # if yes return true otherwise return false\n",
    "        return False  \n",
    "\n",
    "# calculate the number of days as per the yearin case leap year add +1 in feb for month contaning 30 day return 30 ,else 31\n",
    "def days_month(month,year):\n",
    "    if month in [1,3,5,7,8,10,12]: # In this month total days are 31\n",
    "        return 31\n",
    "    elif month==2:\n",
    "        if check_leap_year(year):\n",
    "            return 29\n",
    "        else:\n",
    "            return 28\n",
    "    else:\n",
    "        return 30\n",
    "\n",
    "# function for add number of days\n",
    "def add_days(day,month,year,days_to_add):\n",
    "    while days_to_add > 0:\n",
    "        days_in_curent_month=days_month(month,year) # find days left in current month\n",
    "        remaning_days=days_in_curent_month - day\n",
    "        \n",
    "        if days_to_add <= remaning_days: # if more that month  number of to next month oe year based on the date return date.\n",
    "            day += days_to_add  \n",
    "            break\n",
    "        else:\n",
    "            days_to_add -= remaning_days + 1\n",
    "            day=1\n",
    "            month +=1\n",
    "            if month > 12:\n",
    "                month = 1\n",
    "                year += 1\n",
    "\n",
    "    return day,month,year\n",
    "\n",
    "print(\"The new date after adding N days is:\",add_days(10,7,2024,30))\n",
    "            \n",
    "print(\"July 11, 2025 + 30 days =\", add_days(11, 7, 2025, 30))        \n",
    "            \n"
   ]
  },
  {
   "cell_type": "markdown",
   "id": "ac2289ec-4532-4dc7-a267-40b41bfec370",
   "metadata": {},
   "source": [
    "**Q.7 Given two dates, determine whether they fall within the same calendar week.**"
   ]
  },
  {
   "cell_type": "code",
   "execution_count": 44,
   "id": "e210ec05-22d3-4663-b6b2-8bb1246040d3",
   "metadata": {},
   "outputs": [
    {
     "name": "stdout",
     "output_type": "stream",
     "text": [
      "False\n",
      "True\n"
     ]
    }
   ],
   "source": [
    "def same_calender_week(date1,date2):\n",
    "    day1,month1,year1 = date1  # It check dates (day,month,year) this format in same week if true i.e dates are fall within the same calender week , other wise return false\n",
    "    day2,month2,year2 = date2\n",
    "\n",
    "# To find the total number of days\n",
    "    day1_total = year1 * 365 + month1 * 30 + day1  \n",
    "    day2_total = year2 * 365 + month2 * 30 + day2\n",
    "\n",
    "# find the difference between total number of days & divide it by 7 (as per the 7 days in week) use // (floor division to get remaning days)\n",
    "    remaning_week = abs(day1_total - day2_total) // 7 # abs for get positive answer avoid negative \n",
    "    return remaning_week == 0 # if it return 0 same week otherwise diffrent week\n",
    "date1=(15,7,2025)\n",
    "date2=(29,7,2025)\n",
    "date3=(10,7,2025)\n",
    "print(same_calender_week(date1,date2))\n",
    "print(same_calender_week(date1,date3))"
   ]
  },
  {
   "cell_type": "markdown",
   "id": "d93ce56e-8213-40ee-b793-3280be9ba644",
   "metadata": {},
   "source": [
    "**Q.8 Write a program that takes a month and a year as input and prints the calendar for that month in a grid format.**"
   ]
  },
  {
   "cell_type": "markdown",
   "id": "c3989448-004c-4b9f-bd91-a7ffa1f1abce",
   "metadata": {},
   "source": [
    "**Q.9 Write two functions:**\n",
    "- Convert a time string from 12-hour format (with AM/PM) to 24-hour format.\n",
    "\n",
    "- Convert a time string from 24-hour format to 12-hour format (with AM/PM)."
   ]
  },
  {
   "cell_type": "code",
   "execution_count": 46,
   "id": "fc465ee3-c26b-4012-85a6-176c0691c613",
   "metadata": {},
   "outputs": [
    {
     "name": "stdout",
     "output_type": "stream",
     "text": [
      "The conversion of 12hour to 24hour is: 14:00:PM\n"
     ]
    }
   ],
   "source": [
    "# convert 12 hour to 24 hour.\n",
    "def convert_12hour_24hour(time_string):\n",
    "    times,period=time_string.split() # split the time and period\n",
    "    hours,minutes=times.split(':') # to split the hour and mintues by :\n",
    "   # hours in integer\n",
    "    hours=int(hours)\n",
    "# Check the period is equal to PM and hour is not equal to 12 then they add 12hours (i.e 2pm it will show 14:00)\n",
    "    if period  == 'PM' and hours != 12:\n",
    "        hours +=12\n",
    "    elif period == 'AM' and hours == 12: # otherwise it return original format\n",
    "        hours = 0\n",
    "    return f\"{hours:02d}:{minutes}:{period}\"\n",
    "\n",
    "print(\"The conversion of 12hour to 24hour is:\",convert_12hour_24hour(\"2:00 PM\")) "
   ]
  },
  {
   "cell_type": "code",
   "execution_count": 44,
   "id": "270de6a7-3843-4942-a073-93a6239f5089",
   "metadata": {},
   "outputs": [
    {
     "name": "stdout",
     "output_type": "stream",
     "text": [
      "The conversion of 24hour to 12hour is: 3:00 PM\n"
     ]
    }
   ],
   "source": [
    "# convert 24hour to 12hour\n",
    "def convert_24_to_12(time_str):\n",
    "    #time,period=time_str.split()\n",
    "    hours, minutes = time_str.split(':')\n",
    "    hours = int(hours) # convert th hours into the integer\n",
    "# check the hour is 0 then period is AM and hour is 12\n",
    "    if hours == 0:\n",
    "        period = 'AM'\n",
    "        hours = 12\n",
    "    elif 1 <= hours < 12: # if hour is between 1 and 11 then the period is AM \n",
    "        period = 'AM'\n",
    "    elif hours == 12:    # check hour is exactly equal to 12 then period is PM\n",
    "        period = 'PM'\n",
    "    else:\n",
    "        period = 'PM'  # otherwise it period is PM and subtract the 12 from the hours\n",
    "        hours -= 12\n",
    "    return f\"{hours}:{minutes} {period}\"\n",
    "\n",
    "print(\"The conversion of 24hour to 12hour is:\",convert_24_to_12(\"15:00\"))"
   ]
  },
  {
   "cell_type": "markdown",
   "id": "bcef35d9-411f-4f5f-b388-48457f7bf3a0",
   "metadata": {},
   "source": [
    "**Q.10 Given two dates, count how many Saturdays and Sundays occur between these two dates, inclusive of the given dates.**"
   ]
  },
  {
   "cell_type": "code",
   "execution_count": null,
   "id": "a0f05ed9-90e1-427e-b8de-5cb58cbe550b",
   "metadata": {},
   "outputs": [],
   "source": []
  },
  {
   "cell_type": "markdown",
   "id": "06096826-77c0-47e7-9d69-e1f8b2a9c459",
   "metadata": {},
   "source": [
    "**Q.1 Given a person’s birth date and a current date, calculate their exact age in years, months, and days.**"
   ]
  },
  {
   "cell_type": "markdown",
   "id": "d70eb96c-7365-4720-a190-99fc92d1add4",
   "metadata": {},
   "source": [
    "**Q.2 Given two time strings in HH:MM:SS format (24-hour clock), calculate the absolute difference between them and return the result as a string in the same format.**"
   ]
  },
  {
   "cell_type": "code",
   "execution_count": 42,
   "id": "aa1e7546-9418-474f-a453-9e7a2889b6a7",
   "metadata": {},
   "outputs": [
    {
     "name": "stdin",
     "output_type": "stream",
     "text": [
      "Enter Time1 in (HH:MM:SS): 21:22:00\n",
      "Enter Time2 in (HH:MM:SS) 18:20:00\n"
     ]
    },
    {
     "name": "stdout",
     "output_type": "stream",
     "text": [
      "The Absolute Difference is: 03:02:00\n"
     ]
    }
   ],
   "source": [
    "def time(time1,time2):\n",
    "    hour1,minutes1,sec1=map(int,time1.split(':'))  # to split/seperate the the each integer in date by(:)\n",
    "    hour2,minutes2,sec2=map(int,time2.split(':'))\n",
    "    total_sec1 = hour1 * 3600 + minutes1 * 60 + sec1  # Calculate the total second (h*3600+m*60+s)\n",
    "    total_sec2 = hour2 * 3600 + minutes2 * 60 + sec2\n",
    " \n",
    "    # To calculate Absolute difference   \n",
    "    absolute_difference=abs(total_sec1-total_sec2)  # abs- if the difference is negative they ignore the and give positive\n",
    " \n",
    "    # To calculate hours minutes and seconds \n",
    "    hours = absolute_difference // 3600\n",
    "    remaining_seconds = absolute_difference % 3600\n",
    "    minutes = remaining_seconds // 60\n",
    "    seconds = remaining_seconds % 60\n",
    "    return f\"{hours:02d}:{minutes:02d}:{seconds:02d}\"\n",
    "\n",
    "time1=input(\"Enter Time1 in (HH:MM:SS):\")\n",
    "time2=input(\"Enter Time2 in (HH:MM:SS)\")\n",
    "print(\"The Absolute Difference is:\",time(time1,time2))"
   ]
  },
  {
   "cell_type": "markdown",
   "id": "66522a8c-1a3f-4ad7-be6e-2faf3e22fe6f",
   "metadata": {},
   "source": [
    "**Q.3 Given a year and a day number (1–365 or 1–366), find the corresponding date (day and month) of that year.**"
   ]
  },
  {
   "cell_type": "code",
   "execution_count": 13,
   "id": "de567aa7-ddc7-43d6-96a1-94e425a49b82",
   "metadata": {},
   "outputs": [
    {
     "name": "stdout",
     "output_type": "stream",
     "text": [
      "14 January\n"
     ]
    }
   ],
   "source": [
    "def find_date(year, day_number):\n",
    "    month_day = [31, 28, 31, 30, 31, 30, 31, 31, 30, 31, 30, 31]  # define days in month\n",
    "    if year % 4 == 0 and (year % 100 != 0 or year % 400 == 0): # check the leap year condition\n",
    "        month_day[1] = 29\n",
    "\n",
    "    month_name = [\"January\", \"February\", \"March\", \"April\", \"May\", \"June\",      # define month name\n",
    "                  \"July\", \"August\", \"September\", \"October\", \"November\", \"December\"]\n",
    "\n",
    "    month = 0  # month=0 we find corresponding date from january month \n",
    "    if day_number > month_day[month]:  # if days number is greater than month days it will be subtract from them and add to the next month \n",
    "        day_number -= months_day[month]   \n",
    "        month += 1\n",
    "\n",
    "    return f\"{day_number} {month_name[month]}\" \n",
    "\n",
    "\n",
    "print(find_date(2025, 14))"
   ]
  },
  {
   "cell_type": "markdown",
   "id": "e939b9ca-15e9-4c7e-9f1a-fcf244c89a24",
   "metadata": {},
   "source": [
    "**Q.4 Given the current date and time, calculate the time remaining until the start of the next year (i.e., January 1st, 00:00:00 of the following year).**"
   ]
  },
  {
   "cell_type": "code",
   "execution_count": 56,
   "id": "a1457438-2999-4d91-821f-67473190cffe",
   "metadata": {},
   "outputs": [
    {
     "name": "stdin",
     "output_type": "stream",
     "text": [
      "Enter current year:  2025\n",
      "Enter current month:  7\n",
      "Enter current day:  14\n",
      "Enter current hour:  6\n",
      "Enter current minute:  45\n",
      "Enter current second:  50\n"
     ]
    },
    {
     "name": "stdout",
     "output_type": "stream",
     "text": [
      "Time remaining until next year: 351 days, 17 hours, 14 minutes, 10 seconds\n"
     ]
    }
   ],
   "source": [
    "year = int(input(\"Enter current year: \"))\n",
    "month = int(input(\"Enter current month: \"))\n",
    "day = int(input(\"Enter current day: \"))\n",
    "hour = int(input(\"Enter current hour: \"))\n",
    "minute = int(input(\"Enter current minute: \"))\n",
    "second = int(input(\"Enter current second: \"))\n",
    " \n",
    "total_seconds_in_year = 365 * 24 * 3600  # calculate the total second (365 days * 24 hour * 3600 second)\n",
    "current_seconds = ((day - 1) * 24 * 3600) + (hour * 3600) + (minute * 60) + second\n",
    "time_left = total_seconds_in_year - current_seconds\n",
    "\n",
    "days = time_left // (24 * 3600)\n",
    "hours = (time_left % (24 * 3600)) // 3600\n",
    "minutes = (time_left % 3600) // 60\n",
    "seconds = time_left % 60\n",
    "\n",
    "print(f\"Time remaining until next year: {days} days, {hours} hours, {minutes} minutes, {seconds} seconds\")\n"
   ]
  },
  {
   "cell_type": "code",
   "execution_count": null,
   "id": "1231deec-a104-4988-b59a-429561ff43ac",
   "metadata": {},
   "outputs": [],
   "source": []
  }
 ],
 "metadata": {
  "kernelspec": {
   "display_name": "Python [conda env:base] *",
   "language": "python",
   "name": "conda-base-py"
  },
  "language_info": {
   "codemirror_mode": {
    "name": "ipython",
    "version": 3
   },
   "file_extension": ".py",
   "mimetype": "text/x-python",
   "name": "python",
   "nbconvert_exporter": "python",
   "pygments_lexer": "ipython3",
   "version": "3.12.7"
  }
 },
 "nbformat": 4,
 "nbformat_minor": 5
}
